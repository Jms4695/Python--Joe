{
  "nbformat": 4,
  "nbformat_minor": 0,
  "metadata": {
    "colab": {
      "provenance": [],
      "authorship_tag": "ABX9TyMxD5STen+M/QuXD3nw8uHm",
      "include_colab_link": true
    },
    "kernelspec": {
      "name": "python3",
      "display_name": "Python 3"
    },
    "language_info": {
      "name": "python"
    }
  },
  "cells": [
    {
      "cell_type": "markdown",
      "metadata": {
        "id": "view-in-github",
        "colab_type": "text"
      },
      "source": [
        "<a href=\"https://colab.research.google.com/github/Jms4695/Python--Joe/blob/main/Calculator.ipynb\" target=\"_parent\"><img src=\"https://colab.research.google.com/assets/colab-badge.svg\" alt=\"Open In Colab\"/></a>"
      ]
    },
    {
      "cell_type": "code",
      "execution_count": null,
      "metadata": {
        "colab": {
          "base_uri": "https://localhost:8080/"
        },
        "id": "lQF3lV7kZtPG",
        "outputId": "1f4578bf-d1bd-4762-c646-5071359e877e"
      },
      "outputs": [
        {
          "name": "stdout",
          "output_type": "stream",
          "text": [
            "Enter the number you want to calculate 5\n",
            "Enter the second number you want to calculate 6\n",
            "Enter the operator you want to calculate +\n"
          ]
        }
      ],
      "source": [
        "# Design a calculator, cannot stop unless user chooses to (Infinite Loop),\n",
        "# implement all numerical operations that we discussed, the user has to provide the numbhers and the desired operatior from the keyboard;\n",
        "# then the calculator will display the result,\n",
        "# the calculator stops if the user enters the word \"Break\" instead of calculator, it skips an iteration if the user gives an operator that is not numerial (a boolean one)\n",
        "# Numbers: int or float; operator: str\n",
        "\n",
        "while True:\n",
        "  user_input = int(input(\"Enter the number you want to calculate \"))\n",
        "  user_input2 = int(input(\"Enter the second number you want to calculate \"))\n",
        "  user_input3 = input(input(\"Enter the operator you want to calculate \"))\n"
      ]
    }
  ]
}