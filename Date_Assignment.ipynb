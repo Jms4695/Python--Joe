{
  "nbformat": 4,
  "nbformat_minor": 0,
  "metadata": {
    "colab": {
      "provenance": [],
      "authorship_tag": "ABX9TyM9h2dT0+1uJQBvDzGorb8v",
      "include_colab_link": true
    },
    "kernelspec": {
      "name": "python3",
      "display_name": "Python 3"
    },
    "language_info": {
      "name": "python"
    }
  },
  "cells": [
    {
      "cell_type": "markdown",
      "metadata": {
        "id": "view-in-github",
        "colab_type": "text"
      },
      "source": [
        "<a href=\"https://colab.research.google.com/github/Jms4695/Python--Joe/blob/main/Date_Assignment.ipynb\" target=\"_parent\"><img src=\"https://colab.research.google.com/assets/colab-badge.svg\" alt=\"Open In Colab\"/></a>"
      ]
    },
    {
      "cell_type": "markdown",
      "source": [
        "Date Assignment"
      ],
      "metadata": {
        "id": "ONmzfXQikU7k"
      }
    },
    {
      "cell_type": "code",
      "execution_count": 4,
      "metadata": {
        "id": "x92jVjMBfJWY",
        "colab": {
          "base_uri": "https://localhost:8080/"
        },
        "outputId": "3a5b007d-8a8c-4ecf-a900-23783dc6dfb1"
      },
      "outputs": [
        {
          "output_type": "stream",
          "name": "stdout",
          "text": [
            "Enter a date (MM/DD/YYYY): 02/26/2024\n",
            "Month: 02\n",
            "Day: 26\n",
            "Year: 2024\n"
          ]
        }
      ],
      "source": [
        "date = input(\"Enter a date (MM/DD/YYYY): \")\n",
        "month = date[:2]\n",
        "day = date[3:5]\n",
        "year = date[-4:]\n",
        "\n",
        "print(\"Month:\", month)\n",
        "print(\"Day:\", day)\n",
        "print(\"Year:\", year)"
      ]
    }
  ]
}