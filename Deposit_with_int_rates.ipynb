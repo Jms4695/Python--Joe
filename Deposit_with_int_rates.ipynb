{
  "nbformat": 4,
  "nbformat_minor": 0,
  "metadata": {
    "colab": {
      "provenance": [],
      "authorship_tag": "ABX9TyN03GgT4R7n0QNyhcz02Ftf",
      "include_colab_link": true
    },
    "kernelspec": {
      "name": "python3",
      "display_name": "Python 3"
    },
    "language_info": {
      "name": "python"
    }
  },
  "cells": [
    {
      "cell_type": "markdown",
      "metadata": {
        "id": "view-in-github",
        "colab_type": "text"
      },
      "source": [
        "<a href=\"https://colab.research.google.com/github/Jms4695/Python--Joe/blob/main/Deposit_with_int_rates.ipynb\" target=\"_parent\"><img src=\"https://colab.research.google.com/assets/colab-badge.svg\" alt=\"Open In Colab\"/></a>"
      ]
    },
    {
      "cell_type": "code",
      "execution_count": null,
      "metadata": {
        "id": "QnexjDh_thRo"
      },
      "outputs": [],
      "source": [
        "deposit = float(input('Enter deposit amount: '))\n",
        "customer_type=input('Enter customer type(n:new,e:existing):')\n",
        "\n",
        "if customer_type=='n':\n",
        "  ir=3.0\n",
        "else:\n",
        "  if deposit > 10000:\n",
        "    ir=3.5\n",
        "  elif deposit > 1000:\n",
        "    ir=3.25\n",
        "  else:\n",
        "    ir=3.0\n",
        "total=(1+ir/100)*deposit\n",
        "print(f'Deposit at the ed of the year: {total}')"
      ]
    }
  ]
}