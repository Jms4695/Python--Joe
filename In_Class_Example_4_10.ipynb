{
  "nbformat": 4,
  "nbformat_minor": 0,
  "metadata": {
    "colab": {
      "provenance": [],
      "authorship_tag": "ABX9TyO9h1/KDsDw4Oei76xzVt1a",
      "include_colab_link": true
    },
    "kernelspec": {
      "name": "python3",
      "display_name": "Python 3"
    },
    "language_info": {
      "name": "python"
    }
  },
  "cells": [
    {
      "cell_type": "markdown",
      "metadata": {
        "id": "view-in-github",
        "colab_type": "text"
      },
      "source": [
        "<a href=\"https://colab.research.google.com/github/Jms4695/Python--Joe/blob/main/In_Class_Example_4_10.ipynb\" target=\"_parent\"><img src=\"https://colab.research.google.com/assets/colab-badge.svg\" alt=\"Open In Colab\"/></a>"
      ]
    },
    {
      "cell_type": "code",
      "execution_count": 13,
      "metadata": {
        "colab": {
          "base_uri": "https://localhost:8080/"
        },
        "id": "Ba7BBVWp2fnq",
        "outputId": "c8410f5d-730c-4471-a286-3cd680a64f72"
      },
      "outputs": [
        {
          "output_type": "stream",
          "name": "stdout",
          "text": [
            "This will be displayed always\n"
          ]
        },
        {
          "output_type": "execute_result",
          "data": {
            "text/plain": [
              "2.0"
            ]
          },
          "metadata": {},
          "execution_count": 13
        }
      ],
      "source": [
        "def avg(alist):\n",
        "  try:\n",
        "    return sum(alist) / len(alist)\n",
        "  except ZeroDivisionError:\n",
        "    print(\"The list is empty!\")\n",
        "    return []\n",
        "  except TypeError:\n",
        "    print('The list has to be numeric only!')\n",
        "    return float('nan')\n",
        "  else:\n",
        "    print('All good!')\n",
        "  finally:\n",
        "    print('This will be displayed always')\n",
        "\n",
        "avg([1,2,3])"
      ]
    }
  ]
}