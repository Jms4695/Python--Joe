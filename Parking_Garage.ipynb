{
  "nbformat": 4,
  "nbformat_minor": 0,
  "metadata": {
    "colab": {
      "provenance": [],
      "authorship_tag": "ABX9TyMJlkYr6vCOTq17lrTohnjF",
      "include_colab_link": true
    },
    "kernelspec": {
      "name": "python3",
      "display_name": "Python 3"
    },
    "language_info": {
      "name": "python"
    }
  },
  "cells": [
    {
      "cell_type": "markdown",
      "metadata": {
        "id": "view-in-github",
        "colab_type": "text"
      },
      "source": [
        "<a href=\"https://colab.research.google.com/github/Jms4695/Python--Joe/blob/main/Parking_Garage.ipynb\" target=\"_parent\"><img src=\"https://colab.research.google.com/assets/colab-badge.svg\" alt=\"Open In Colab\"/></a>"
      ]
    },
    {
      "cell_type": "markdown",
      "source": [
        "A code breaking down how a parking garage fee prices are allocated by hour"
      ],
      "metadata": {
        "id": "tkgnuQM_yXbg"
      }
    },
    {
      "cell_type": "code",
      "execution_count": null,
      "metadata": {
        "id": "ctBt3OY_yUL_"
      },
      "outputs": [],
      "source": [
        "c = 5\n",
        "f = 2.50\n",
        "\n",
        "for hour in range(1,9):\n",
        "  if c+(f*hour) < 10:\n",
        "    print(hour, \"hours\", \"$ 10.0\")\n",
        "  elif c+(f*hour) > 20:\n",
        "    print(hour, \"hours\", \"$ 20.0\")\n",
        "  else:\n",
        "    print(hour, \"hours\", \"$\", c+(f*hour))"
      ]
    }
  ]
}