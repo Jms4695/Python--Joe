{
  "nbformat": 4,
  "nbformat_minor": 0,
  "metadata": {
    "colab": {
      "provenance": [],
      "authorship_tag": "ABX9TyNeIeBIaWiWMYLnV7V8p4xa",
      "include_colab_link": true
    },
    "kernelspec": {
      "name": "python3",
      "display_name": "Python 3"
    },
    "language_info": {
      "name": "python"
    }
  },
  "cells": [
    {
      "cell_type": "markdown",
      "metadata": {
        "id": "view-in-github",
        "colab_type": "text"
      },
      "source": [
        "<a href=\"https://colab.research.google.com/github/Jms4695/Python--Joe/blob/main/Thank_You.ipynb\" target=\"_parent\"><img src=\"https://colab.research.google.com/assets/colab-badge.svg\" alt=\"Open In Colab\"/></a>"
      ]
    },
    {
      "cell_type": "markdown",
      "source": [
        "I wanted to give a huge thank you to my professor Dr. Erotokritos Skordilis for a wonderful and informative semester teaching Programming in Python. I hope my repository demonstrates my first hand experience using the language."
      ],
      "metadata": {
        "id": "Wx4qe6RrHU4Z"
      }
    },
    {
      "cell_type": "code",
      "execution_count": 1,
      "metadata": {
        "colab": {
          "base_uri": "https://localhost:8080/"
        },
        "id": "XPdn4ITxHObt",
        "outputId": "44d53eeb-c26a-44c4-c08e-d051f3ea3a83"
      },
      "outputs": [
        {
          "output_type": "stream",
          "name": "stdout",
          "text": [
            "Thank you Professor Skordillis!!\n"
          ]
        }
      ],
      "source": [
        "print('Thank you Professor Skordillis!!')"
      ]
    }
  ]
}